{
  "nbformat": 4,
  "nbformat_minor": 0,
  "metadata": {
    "colab": {
      "provenance": []
    },
    "kernelspec": {
      "name": "python3",
      "display_name": "Python 3"
    },
    "language_info": {
      "name": "python"
    }
  },
  "cells": [
    {
      "cell_type": "markdown",
      "source": [
        "# Data Science Tools and Ecosystem"
      ],
      "metadata": {
        "id": "rVmDG1Em1FS8"
      }
    },
    {
      "cell_type": "markdown",
      "source": [
        "In this notebook, Data Science Tools and Ecosystem are summarized."
      ],
      "metadata": {
        "id": "xu3gEZuT7zY9"
      }
    },
    {
      "cell_type": "markdown",
      "source": [
        "**Objectives**:  \n",
        "List popular languages for Data Science  \n",
        "- Python\n",
        "- R\n",
        "- SQL"
      ],
      "metadata": {
        "id": "tg9J4kcLCYtJ"
      }
    },
    {
      "cell_type": "markdown",
      "source": [
        "Some of the popular languages that Data Scientists use are:\n",
        "1. Python\n",
        "2. R\n",
        "3. SQL"
      ],
      "metadata": {
        "id": "jcRMY4Kp8Eyn"
      }
    },
    {
      "cell_type": "markdown",
      "source": [
        "Some of the commonly used libraries used by Data Scientists include:\n",
        "1. tensorflow\n",
        "2. Pandas\n",
        "3. matplotlib"
      ],
      "metadata": {
        "id": "Kf24RPNr9_lY"
      }
    },
    {
      "cell_type": "markdown",
      "source": [
        "| Data Science Tools |\n",
        "| -------------- |\n",
        "|IBM watson studio|\n",
        "| rstudio |\n",
        "| jupyterlab |"
      ],
      "metadata": {
        "id": "fz1cOs0W-uzi"
      }
    },
    {
      "cell_type": "markdown",
      "source": [
        "### Below are a few examples of evaluating arithmetic expressions in Python\n",
        "```python\n",
        "print(7+6)\n",
        "print(4*8)\n",
        "print(6/3)\n",
        "print(10-2)\n",
        "```"
      ],
      "metadata": {
        "id": "C4KcKdXe_g2x"
      }
    },
    {
      "cell_type": "code",
      "source": [
        "# This a simple arithmetic expression to mutiply then add integers\n",
        "print((3*4)+5)"
      ],
      "metadata": {
        "colab": {
          "base_uri": "https://localhost:8080/"
        },
        "id": "Ufpir-P3BN45",
        "outputId": "85c9a12f-8981-4266-bed4-a46af48bab47"
      },
      "execution_count": null,
      "outputs": [
        {
          "output_type": "stream",
          "name": "stdout",
          "text": [
            "17\n"
          ]
        }
      ]
    },
    {
      "cell_type": "code",
      "source": [
        "# This will convert 200 minutes to hours by diving by 60\n",
        "print(200/60)"
      ],
      "metadata": {
        "colab": {
          "base_uri": "https://localhost:8080/"
        },
        "id": "0PINIFCxBzTG",
        "outputId": "e21c6433-61d1-4095-e3e3-ae11bef3a3ff"
      },
      "execution_count": null,
      "outputs": [
        {
          "output_type": "stream",
          "name": "stdout",
          "text": [
            "3.3333333333333335\n"
          ]
        }
      ]
    },
    {
      "cell_type": "markdown",
      "source": [
        "## Author\n",
        "Oluwakorede Onasanya"
      ],
      "metadata": {
        "id": "HcsAzmnWLchH"
      }
    }
  ]
}